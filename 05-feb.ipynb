{
 "cells": [
  {
   "cell_type": "raw",
   "id": "e5718309-ed24-41e9-b4d0-dc9d9009423e",
   "metadata": {},
   "source": [
    "Q1. In object-oriented programming, a class is a blueprint for creating objects that share similar attributes and behavior. It defines the properties and methods that an object will have, but does not actually create the object itself. An object, on the other hand, is an instance of a class. It is a concrete entity that can be manipulated and interacted with, and has its own unique set of values for the properties defined by the class.\n",
    "\n",
    "For example, let's consider a class called Car that defines the properties and methods of a car. This class might include properties such as make, model, year, and color, as well as methods such as start(), stop(), and accelerate(). An object of this class might be a specific car with the make \"Toyota\", model \"Camry\", year \"2022\", and color \"blue\".\n",
    "\n",
    "Q2. The four pillars of object-oriented programming are:\n",
    "\n",
    "Abstraction: The ability to represent complex real-world systems in a simplified manner, focusing only on the most relevant aspects and ignoring irrelevant details.\n",
    "\n",
    "Encapsulation: The practice of hiding the internal workings of an object from the outside world, and providing a clean and simple interface for interacting with it.\n",
    "\n",
    "Inheritance: The ability to create new classes based on existing ones, inheriting the properties and methods of the parent class and adding or modifying them as needed.\n",
    "\n",
    "Polymorphism: The ability to use objects of different classes in a unified way, by treating them as instances of a common parent class."
   ]
  },
  {
   "cell_type": "raw",
   "id": "59d6e921-72fb-4217-bec0-e7a87edfa8b1",
   "metadata": {},
   "source": [
    "Q3. The __init__() function is used to initialize the properties of an object when it is created. This function is called automatically when an object is instantiated, and is used to set default values for properties or to perform any necessary setup actions."
   ]
  },
  {
   "cell_type": "markdown",
   "id": "b02f76d4-087e-4288-88ff-6f195e848a18",
   "metadata": {},
   "source": [
    "For example, let's consider the Car class from earlier. We might define an __init__() function for this class that takes the make, model, year, and color as parameters, and initializes the corresponding properties of the object:"
   ]
  },
  {
   "cell_type": "code",
   "execution_count": 15,
   "id": "db823215-db39-4d69-b6a3-6926c4897c35",
   "metadata": {},
   "outputs": [
    {
     "name": "stdout",
     "output_type": "stream",
     "text": [
      "2020 Toyota Camry\n"
     ]
    }
   ],
   "source": [
    "class Car:\n",
    "    def __init__(self, make, model, year):\n",
    "        self.make = make\n",
    "        self.model = model\n",
    "        self.year = year\n",
    "        self.odometer_reading = 0\n",
    "\n",
    "    def get_description(self):\n",
    "        description = f\"{self.year} {self.make} {self.model}\"\n",
    "        return description\n",
    "\n",
    "    def read_odometer(self):\n",
    "        print(f\"This car has {self.odometer_reading} miles on it.\")\n",
    "\n",
    "    def update_odometer(self, mileage):\n",
    "        if mileage >= self.odometer_reading:\n",
    "            self.odometer_reading = mileage\n",
    "        else:\n",
    "            print(\"You can't roll back an odometer!\")\n",
    "\n",
    "    def increment_odometer(self, miles):\n",
    "        self.odometer_reading += miles\n",
    "\n",
    "my_car = Car('Toyota', 'Camry', 2020)\n",
    "print(my_car.get_description())\n"
   ]
  },
  {
   "cell_type": "raw",
   "id": "b6c0ac66-813b-4dbc-bff3-493f81a1767d",
   "metadata": {},
   "source": [
    "Q4. In object-oriented programming, self is a reference to the object that is currently being manipulated. It is used to access the properties and methods of the object from within the class definition. When a method is called on an object, the object itself is passed in as the first argument (conventionally named self), which allows the method to access and modify the object's properties."
   ]
  },
  {
   "cell_type": "raw",
   "id": "541d5aa0-5015-4eab-b0f4-3f057aa717d4",
   "metadata": {},
   "source": [
    "Inheritance is a mechanism in object-oriented programming that allows a new class to be based on an existing class. The new class, known as a derived class or subclass, inherits properties and behaviors from the existing class, known as the base class or superclass. The main advantage of inheritance is that it promotes code reusability and saves time in programming.\n",
    "\n",
    "There are four types of inheritance in Python:\n",
    "\n",
    "1.Single inheritance: In single inheritance, a subclass inherits from only one superclass.\n",
    "Example:"
   ]
  },
  {
   "cell_type": "code",
   "execution_count": 8,
   "id": "39fb04f3-a1c5-4a93-afa0-3727afbd10e2",
   "metadata": {},
   "outputs": [
    {
     "name": "stdout",
     "output_type": "stream",
     "text": [
      "BMW\n"
     ]
    }
   ],
   "source": [
    "class Vehicle:\n",
    "    def __init__(self, name, color):\n",
    "        self.name = name\n",
    "        self.color = color\n",
    "\n",
    "class Car(Vehicle):\n",
    "    def start(self):\n",
    "        print(\"Car started.\")\n",
    "\n",
    "my_car = Car(\"BMW\", \"blue\")\n",
    "print(my_car.name)    \n"
   ]
  },
  {
   "cell_type": "raw",
   "id": "3f66c02f-b127-4877-b2b7-7a31c0947ca8",
   "metadata": {},
   "source": [
    "2.Multiple inheritance: In multiple inheritance, a subclass inherits from two or more superclasses.\n",
    "\n",
    "Example:"
   ]
  },
  {
   "cell_type": "code",
   "execution_count": 9,
   "id": "dae975cf-72ad-4bdc-9895-53cb483374b7",
   "metadata": {},
   "outputs": [
    {
     "name": "stdout",
     "output_type": "stream",
     "text": [
      "Base1\n"
     ]
    }
   ],
   "source": [
    "class Base1:\n",
    "    def foo(self):\n",
    "        print(\"Base1\")\n",
    "\n",
    "class Base2:\n",
    "    def foo(self):\n",
    "        print(\"Base2\")\n",
    "\n",
    "class MultiDerived(Base1, Base2):\n",
    "    pass\n",
    "\n",
    "obj = MultiDerived()\n",
    "obj.foo()   \n"
   ]
  },
  {
   "cell_type": "raw",
   "id": "b39b421d-bb47-4aab-9ffe-f4ea3c81afe0",
   "metadata": {},
   "source": [
    "3.Multilevel inheritance: In multilevel inheritance, a subclass inherits from a superclass, which in turn inherits from another superclass\n",
    "\n",
    "Example:"
   ]
  },
  {
   "cell_type": "code",
   "execution_count": 10,
   "id": "23ac3b8d-19bc-409d-98a2-600f69341948",
   "metadata": {},
   "outputs": [
    {
     "name": "stdout",
     "output_type": "stream",
     "text": [
      "Rover\n"
     ]
    }
   ],
   "source": [
    "class Animal:\n",
    "    def __init__(self, name):\n",
    "        self.name = name\n",
    "\n",
    "class Mammal(Animal):\n",
    "    def __init__(self, name, species):\n",
    "        super().__init__(name)\n",
    "        self.species = species\n",
    "\n",
    "class Dog(Mammal):\n",
    "    def __init__(self, name, breed):\n",
    "        super().__init__(name, \"dog\")\n",
    "        self.breed = breed\n",
    "\n",
    "my_dog = Dog(\"Rover\", \"Labrador\")\n",
    "print(my_dog.name)    # Output: Rover\n"
   ]
  },
  {
   "cell_type": "raw",
   "id": "129eb54e-b586-48ef-95dc-dd7a40fa18c8",
   "metadata": {},
   "source": [
    "4.Hierarchical inheritance: In hierarchical inheritance, two or more subclasses inherit from the same superclass.\n",
    "\n",
    "Example"
   ]
  },
  {
   "cell_type": "code",
   "execution_count": 13,
   "id": "7786556a-d12f-40b5-abbe-4d7a5faf93dc",
   "metadata": {},
   "outputs": [
    {
     "name": "stdout",
     "output_type": "stream",
     "text": [
      "Woof!\n",
      "Meow!\n"
     ]
    }
   ],
   "source": [
    "class Animal:\n",
    "    def __init__(self, name):\n",
    "        self.name = name\n",
    "\n",
    "class Dog(Animal):\n",
    "    def bark(self):\n",
    "        print(\"Woof!\")\n",
    "\n",
    "class Cat(Animal):\n",
    "    def meow(self):\n",
    "        print(\"Meow!\")\n",
    "\n",
    "my_dog = Dog(\"Rover\")\n",
    "my_cat = Cat(\"Whiskers\")\n",
    "my_dog.bark()   \n",
    "my_cat.meow()   \n"
   ]
  },
  {
   "cell_type": "code",
   "execution_count": null,
   "id": "58bd2182-1e2d-4938-bf53-5384059377a4",
   "metadata": {},
   "outputs": [],
   "source": []
  }
 ],
 "metadata": {
  "kernelspec": {
   "display_name": "Python 3 (ipykernel)",
   "language": "python",
   "name": "python3"
  },
  "language_info": {
   "codemirror_mode": {
    "name": "ipython",
    "version": 3
   },
   "file_extension": ".py",
   "mimetype": "text/x-python",
   "name": "python",
   "nbconvert_exporter": "python",
   "pygments_lexer": "ipython3",
   "version": "3.10.8"
  }
 },
 "nbformat": 4,
 "nbformat_minor": 5
}
